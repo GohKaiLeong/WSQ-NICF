{
 "cells": [
  {
   "cell_type": "code",
   "execution_count": 1,
   "metadata": {
    "colab": {
     "base_uri": "https://localhost:8080/",
     "height": 84
    },
    "colab_type": "code",
    "executionInfo": {
     "elapsed": 9683,
     "status": "ok",
     "timestamp": 1589532963901,
     "user": {
      "displayName": "GO KL",
      "photoUrl": "https://lh3.googleusercontent.com/a-/AOh14Gixm2uw9BNIQpb-i3CMDQY7kXzZRXLWKHs4BZ23zg=s64",
      "userId": "16926301364526403918"
     },
     "user_tz": -480
    },
    "id": "C6mEe3lHdSqL",
    "outputId": "bd92835f-c862-4668-99ba-1f2dbfe639c4"
   },
   "outputs": [
    {
     "name": "stdout",
     "output_type": "stream",
     "text": [
      "What is your age :30\n",
      "What is yout monthly salary :1000\n",
      "Employer CPF contribution is : $170.0\n",
      "Employee CPF contribution is : $200.0\n"
     ]
    }
   ],
   "source": [
    "#Function to compute Employer and Employee CPF Contribution\n",
    "def contrib(age,salary):\n",
    "    if age <= 55:\n",
    "        employer = 0.17*salary\n",
    "        employee = 0.20*salary\n",
    "        return employer,employee\n",
    "    elif 55 < age <= 60:\n",
    "        employer = 0.13*salary\n",
    "        employee = 0.13*salary\n",
    "        return employer,employee\n",
    "    elif 60 < age <= 65:\n",
    "        employer = 0.09*salary\n",
    "        employee = 0.075*salary\n",
    "        return employer,employee\n",
    "    else:\n",
    "        employer = 0.075*salary\n",
    "        employee = 0.05*salary\n",
    "        return employer,employee\n",
    "#Prompt user for employee age and salary\n",
    "age = int(input(\"What is your age :\"))\n",
    "salary = float(input(\"What is yout monthly salary :\"))\n",
    "employercon, employeecon = contrib(age,salary) \n",
    "if age >= 16 and salary >= 750:\n",
    "    print(\"Employer CPF contribution is : ${}\".format(employercon))\n",
    "    print(\"Employee CPF contribution is : ${}\".format(employeecon))\n",
    "else:\n",
    "    print(\"Invalid input. Minimum age is 16 and minimum wage is $750.\")"
   ]
  }
 ],
 "metadata": {
  "colab": {
   "authorship_tag": "ABX9TyM4EXrmqzf38darWryQUpA2",
   "name": "CRS-Q-0038362-ICT_Goh Kai Leong_XXXX505J.ipynb",
   "provenance": []
  },
  "kernelspec": {
   "display_name": "Python 3",
   "language": "python",
   "name": "python3"
  },
  "language_info": {
   "codemirror_mode": {
    "name": "ipython",
    "version": 3
   },
   "file_extension": ".py",
   "mimetype": "text/x-python",
   "name": "python",
   "nbconvert_exporter": "python",
   "pygments_lexer": "ipython3",
   "version": "3.7.6"
  }
 },
 "nbformat": 4,
 "nbformat_minor": 1
}
