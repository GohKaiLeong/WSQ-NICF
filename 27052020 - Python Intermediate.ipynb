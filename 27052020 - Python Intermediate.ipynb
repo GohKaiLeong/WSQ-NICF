{
 "cells": [
  {
   "cell_type": "code",
   "execution_count": 1,
   "metadata": {
    "colab": {},
    "colab_type": "code",
    "id": "Y4FHcCJc6R0j"
   },
   "outputs": [],
   "source": [
    "# Prompt user for name, weight, height\n",
    "# Compute the BMI\n",
    "# Create a Users DB and key the name, weight, height and BMI to the DB\n",
    "\n",
    "# Part 1\n",
    "import sqlite3\n",
    "db = sqlite3.connect('users.db')\n",
    "try:\n",
    "    db.execute('CREATE TABLE users(name text, weight float, height float, bmi float)')\n",
    "except:\n",
    "    pass"
   ]
  },
  {
   "cell_type": "code",
   "execution_count": 2,
   "metadata": {
    "colab": {},
    "colab_type": "code",
    "id": "g8e3DnXLD6G-"
   },
   "outputs": [],
   "source": [
    "# Part 2\n",
    "class Register:\n",
    "\n",
    "    def __init__(self,name,weight,height):\n",
    "        self.name = name\n",
    "        self.weight = weight\n",
    "        self.height = height\n",
    "        self.bmi = (self.weight)/(self.height**2)\n",
    "\n",
    "    def keyDB(self):\n",
    "        db.execute('INSERT INTO users (name, weight, height, bmi) values (?,?,?,?)', (self.name, self.weight, self.height, self.bmi))\n",
    "        db.commit()\n",
    "    \n",
    "    def showDB(self):\n",
    "        self.list1 = db.execute('SELECT * FROM users ORDER by name')\n",
    "        for i in self.list1:\n",
    "            print(i)"
   ]
  },
  {
   "cell_type": "code",
   "execution_count": 3,
   "metadata": {
    "colab": {
     "base_uri": "https://localhost:8080/",
     "height": 151
    },
    "colab_type": "code",
    "id": "rqoWDgv3D9vE",
    "outputId": "af092b9e-5fca-42ad-ec13-dea54c04c40a"
   },
   "outputs": [
    {
     "name": "stdout",
     "output_type": "stream",
     "text": [
      "Enter name: Albert\n",
      "Enter weight in kg: 70\n",
      "Enter height in m: 1.8\n",
      "('Albert', 70.0, 1.8, 21.604938271604937)\n",
      "thank you for your registration\n"
     ]
    }
   ],
   "source": [
    "# Part 3 \n",
    "try:\n",
    "    name = input('Enter name: ')\n",
    "    weight = float(input('Enter weight in kg: '))\n",
    "    if weight <=0 :\n",
    "        raise Exception\n",
    "    height = float(input('Enter height in m: '))\n",
    "    if height <=0 or height > 2:\n",
    "        raise Exception\n",
    "except ValueError:\n",
    "    print(\"you key the wrong info\")\n",
    "except Exception:\n",
    "    print(\"invalid numbers\")\n",
    "else:\n",
    "    register=Register(name, weight, height)\n",
    "    register.keyDB()\n",
    "    register.showDB()\n",
    "finally:\n",
    "    print(\"thank you for your registration\")"
   ]
  }
 ],
 "metadata": {
  "colab": {
   "collapsed_sections": [],
   "name": "CRS-Q-0039897-ICT_Goh Kai Leong_XXXX505J_.ipynb",
   "provenance": []
  },
  "kernelspec": {
   "display_name": "Python 3",
   "language": "python",
   "name": "python3"
  },
  "language_info": {
   "codemirror_mode": {
    "name": "ipython",
    "version": 3
   },
   "file_extension": ".py",
   "mimetype": "text/x-python",
   "name": "python",
   "nbconvert_exporter": "python",
   "pygments_lexer": "ipython3",
   "version": "3.7.6"
  }
 },
 "nbformat": 4,
 "nbformat_minor": 1
}
